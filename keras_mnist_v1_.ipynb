{
  "nbformat": 4,
  "nbformat_minor": 0,
  "metadata": {
    "accelerator": "GPU",
    "colab": {
      "name": "keras mnist v1 .ipynb",
      "version": "0.3.2",
      "provenance": [],
      "private_outputs": true,
      "collapsed_sections": [
        "pT4AF1BGO6wx",
        "FkQ2p-UQ2txj",
        "aFoFz-hzPpJq",
        "5y3vtwOSOA8_"
      ],
      "toc_visible": true
    },
    "kernelspec": {
      "display_name": "Python 3",
      "language": "python",
      "name": "python3"
    },
    "language_info": {
      "codemirror_mode": {
        "name": "ipython",
        "version": 3
      },
      "file_extension": ".py",
      "mimetype": "text/x-python",
      "name": "python",
      "nbconvert_exporter": "python",
      "pygments_lexer": "ipython3",
      "version": "3.6.8"
    }
  },
  "cells": [
    {
      "cell_type": "markdown",
      "metadata": {
        "id": "pT4AF1BGO6wx",
        "colab_type": "text"
      },
      "source": [
        "## Import "
      ]
    },
    {
      "cell_type": "code",
      "metadata": {
        "colab_type": "code",
        "id": "S89AJpQYG3du",
        "colab": {}
      },
      "source": [
        "import math\n",
        "\n",
        "import tensorflow as tf\n",
        "from tensorflow.keras.callbacks import LearningRateScheduler\n",
        "from tensorflow.keras.datasets import mnist\n",
        "from tensorflow.keras.initializers import Constant\n",
        "from tensorflow.keras.layers import Input, Conv2D, BatchNormalization, Activation, Dropout, Flatten, Dense\n",
        "from tensorflow.keras.models import Model\n",
        "from tensorflow.keras.utils import to_categorical"
      ],
      "execution_count": 0,
      "outputs": []
    },
    {
      "cell_type": "code",
      "metadata": {
        "id": "hIc4sLRW1sFp",
        "colab_type": "code",
        "colab": {}
      },
      "source": [
        "# check tensorflow version\n",
        "tf.__version__"
      ],
      "execution_count": 0,
      "outputs": []
    },
    {
      "cell_type": "code",
      "metadata": {
        "id": "VfECWVdQ1XWD",
        "colab_type": "code",
        "colab": {}
      },
      "source": [
        "NUM_CLASSES = 10"
      ],
      "execution_count": 0,
      "outputs": []
    },
    {
      "cell_type": "markdown",
      "metadata": {
        "id": "FkQ2p-UQ2txj",
        "colab_type": "text"
      },
      "source": [
        "## Load data"
      ]
    },
    {
      "cell_type": "code",
      "metadata": {
        "colab_type": "code",
        "id": "wlnQdsrDh9AX",
        "colab": {}
      },
      "source": [
        "(x_train, y_train), (x_test, y_test) = mnist.load_data(path='mnist.npz')\n",
        "\n",
        "x_train = x_train.reshape(x_train.shape[0], x_train.shape[1], x_train.shape[2], 1)\n",
        "x_test = x_test.reshape(x_test.shape[0], x_test.shape[1], x_test.shape[2], 1)\n",
        "\n",
        "x_train = x_train / 255.0\n",
        "x_test = x_test / 255.0\n",
        "\n",
        "y_train = to_categorical(y_train, NUM_CLASSES)\n",
        "y_test = to_categorical(y_test, NUM_CLASSES)\n",
        "\n",
        "print(\"x_train.shape = {}, y_train.shape = {}\".format(x_train.shape, y_train.shape))\n",
        "print(\"x_test.shape = {}, y_test.shape = {}\".format(x_test.shape, y_test.shape))"
      ],
      "execution_count": 0,
      "outputs": []
    },
    {
      "cell_type": "markdown",
      "metadata": {
        "id": "aFoFz-hzPpJq",
        "colab_type": "text"
      },
      "source": [
        "## Build & Train model"
      ]
    },
    {
      "cell_type": "code",
      "metadata": {
        "colab_type": "code",
        "id": "_Lq0YDUYiTMN",
        "colab": {}
      },
      "source": [
        "inputs = Input(shape=(28, 28, 1), name='input')\n",
        "\n",
        "x = Conv2D(24, kernel_size=(6, 6), strides=1)(inputs)\n",
        "x = BatchNormalization(scale=False, beta_initializer=Constant(0.01))(x)\n",
        "x = Activation('relu')(x)\n",
        "\n",
        "x = Conv2D(48, kernel_size=(5, 5), strides=2)(x)\n",
        "x = BatchNormalization(scale=False, beta_initializer=Constant(0.01))(x)\n",
        "x = Activation('relu')(x)\n",
        "\n",
        "\n",
        "x = Conv2D(64, kernel_size=(4, 4), strides=2)(x)\n",
        "x = BatchNormalization(scale=False, beta_initializer=Constant(0.01))(x)\n",
        "x = Activation('relu')(x)\n",
        "\n",
        "x = Flatten()(x)\n",
        "x = Dense(200)(x)\n",
        "x = BatchNormalization(scale=False, beta_initializer=Constant(0.01))(x)\n",
        "x = Activation('relu')(x)\n",
        "x = Dropout(rate=0.25)(x)\n",
        "\n",
        "predications = Dense(NUM_CLASSES, activation='softmax', name='output')(x)\n",
        "\n",
        "model = Model(inputs=inputs, outputs=predications)\n",
        "model.compile(loss='categorical_crossentropy', optimizer='adam', metrics=['accuracy'])\n",
        "\n",
        "model.summary()\n",
        "\n",
        "lr_decay = lambda epoch: 0.0001 + 0.02 * math.pow(1.0 / math.e, epoch / 3.0)\n",
        "decay_callback = LearningRateScheduler(lr_decay, verbose=1)\n",
        "\n",
        "history = model.fit(x_train, y_train, batch_size=128, epochs=10, verbose=1, \n",
        "                    validation_data=(x_test, y_test), callbacks=[decay_callback])"
      ],
      "execution_count": 0,
      "outputs": []
    },
    {
      "cell_type": "code",
      "metadata": {
        "id": "Q6cDu1pHN0H2",
        "colab_type": "code",
        "colab": {}
      },
      "source": [
        "# Save & Export\n",
        "\n",
        "model.save('mnist.h5')\n",
        "converter = tf.lite.TFLiteConverter.from_keras_model_file('mnist.h5')\n",
        "tflite_model = converter.convert()\n",
        "open('mnist.tflite', 'wb').write(tflite_model)"
      ],
      "execution_count": 0,
      "outputs": []
    },
    {
      "cell_type": "code",
      "metadata": {
        "id": "Z3NuJ2AiOAx4",
        "colab_type": "code",
        "colab": {}
      },
      "source": [
        ""
      ],
      "execution_count": 0,
      "outputs": []
    },
    {
      "cell_type": "code",
      "metadata": {
        "id": "eW868Vb6OA0n",
        "colab_type": "code",
        "colab": {}
      },
      "source": [
        ""
      ],
      "execution_count": 0,
      "outputs": []
    },
    {
      "cell_type": "markdown",
      "metadata": {
        "id": "5y3vtwOSOA8_",
        "colab_type": "text"
      },
      "source": [
        "## Download tflite\n"
      ]
    },
    {
      "cell_type": "code",
      "metadata": {
        "colab_type": "code",
        "id": "51PTkdoPDOTW",
        "colab": {}
      },
      "source": [
        "try:\n",
        "    from google.colab import files\n",
        "    files.download('mnist.tflite')\n",
        "except:\n",
        "    print(\"Skip downloading\")"
      ],
      "execution_count": 0,
      "outputs": []
    },
    {
      "cell_type": "code",
      "metadata": {
        "id": "JU1A_Z244xB3",
        "colab_type": "code",
        "colab": {}
      },
      "source": [
        ""
      ],
      "execution_count": 0,
      "outputs": []
    }
  ]
}